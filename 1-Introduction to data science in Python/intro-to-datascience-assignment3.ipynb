{
 "cells": [
  {
   "attachments": {},
   "cell_type": "markdown",
   "metadata": {},
   "source": [
    "Question 1\n",
    "\n",
    "Load the energy data from the file assets/Energy Indicators.xls, which is a list of indicators of energy supply and renewable electricity production from the United Nations for the year 2013, and should be put into a DataFrame with the variable name of Energy."
   ]
  },
  {
   "cell_type": "code",
   "execution_count": 148,
   "metadata": {},
   "outputs": [],
   "source": [
    "import pandas as pd\n",
    "\n",
    "# Read CSV files in dataframes\n",
    "GDP = pd.read_csv('assets/world_bank.csv', skiprows=4)\n",
    "Energy = pd.read_excel('assets/Energy Indicators.xls', skiprows=17, skipfooter=38)\n",
    "ScimEn = pd.read_excel('assets/scimagojr-3.xlsx')\n"
   ]
  },
  {
   "attachments": {},
   "cell_type": "markdown",
   "metadata": {},
   "source": [
    "Keep in mind that this is an Excel file, and not a comma separated values file. Also, make sure to exclude the footer and header information from the datafile. The first two columns are unneccessary, so you should get rid of them, and you should change the column labels so that the columns are:\n",
    "\n",
    "['Country', 'Energy Supply', 'Energy Supply per Capita', '% Renewable]\n",
    "\n",
    "Convert Energy Supply to gigajoules (Note: there are 1,000,000 gigajoules in a petajoule). For all countries which have missing data (e.g. data with \"...\") make sure this is reflected as np.NaN values."
   ]
  },
  {
   "cell_type": "code",
   "execution_count": 149,
   "metadata": {},
   "outputs": [
    {
     "name": "stdout",
     "output_type": "stream",
     "text": [
      "          Country  Energy Supply  Energy Supply per Capita  % Renewable\n",
      "0     Afghanistan   3.210000e+08                      10.0    78.669280\n",
      "1         Albania   1.020000e+08                      35.0   100.000000\n",
      "2         Algeria   1.959000e+09                      51.0     0.551010\n",
      "3  American Samoa            NaN                       NaN     0.641026\n",
      "4         Andorra   9.000000e+06                     121.0    88.695650\n"
     ]
    }
   ],
   "source": [
    "Energy = Energy.drop(Energy.columns[[0, 1]], axis=1)\n",
    "#We have a dataframe of 227 rows and 4 columns\n",
    "\n",
    "#Changing the name of the columns\n",
    "Energy.columns = ['Country', 'Energy Supply', 'Energy Supply per Capita', '% Renewable']\n",
    "\n",
    "#Replace the \"...\" values to NaN\n",
    "Energy['Energy Supply'] = Energy['Energy Supply'].replace('...', np.nan)\n",
    "Energy['Energy Supply per Capita'] = Energy['Energy Supply per Capita'].replace('...', np.nan)\n",
    "\n",
    "Energy['Energy Supply'] = Energy['Energy Supply'].apply(lambda x: x * 1000000 if not np.isnan(x) else x)\n",
    "\n",
    "print(Energy.head())\n",
    "\n"
   ]
  },
  {
   "attachments": {},
   "cell_type": "markdown",
   "metadata": {},
   "source": [
    "Rename the following list of countries (for use in later questions):\n",
    "\n",
    "\"Republic of Korea\": \"South Korea\", \"United States of America\": \"United States\", \"United Kingdom of Great Britain and Northern Ireland\": \"United Kingdom\", \"China, Hong Kong Special Administrative Region\": \"Hong Kong\"\n",
    "\n",
    "There are also several countries with parenthesis in their name. Be sure to remove these, e.g. 'Bolivia (Plurinational State of)' should be 'Bolivia'."
   ]
  },
  {
   "cell_type": "code",
   "execution_count": 150,
   "metadata": {},
   "outputs": [],
   "source": [
    "# Convert country names in 'Energy' and 'ScimEn' dataset\n",
    "def limpiar_nombre_pais(nombre_pais):\n",
    "# Remove numbers and parentheses from country name\n",
    "        nombre_pais = ''.join([i for i in nombre_pais if not i.isdigit()]).split(' (')[0]\n",
    "        # Replace some countries names\n",
    "        nombre_pais = nombre_pais.replace(\"Republic of Korea\", \"South Korea\")\n",
    "        nombre_pais = nombre_pais.replace(\"United States of America\", \"United States\")\n",
    "        nombre_pais = nombre_pais.replace(\"United Kingdom of Great Britain and Northern Ireland\", \"United Kingdom\")\n",
    "        nombre_pais = nombre_pais.replace(\"China, Hong Kong Special Administrative Region\", \"Hong Kong\")\n",
    "        return nombre_pais.strip()\n",
    "\n",
    "\n",
    "Energy['Country'] = Energy['Country'].apply(limpiar_nombre_pais)\n",
    "ScimEn['Country'] = ScimEn['Country'].apply(limpiar_nombre_pais)"
   ]
  },
  {
   "attachments": {},
   "cell_type": "markdown",
   "metadata": {},
   "source": [
    "Next, load the GDP data from the file assets/world_bank.csv, which is a csv containing countries' GDP from 1960 to 2015 from World Bank. Call this DataFrame GDP.\n",
    "\n",
    "Make sure to skip the header, and rename the following list of countries:\n",
    "\n",
    "\"Korea, Rep.\": \"South Korea\",  \"Iran, Islamic Rep.\": \"Iran\", \"Hong Kong SAR, China\": \"Hong Kong\""
   ]
  },
  {
   "cell_type": "code",
   "execution_count": 151,
   "metadata": {},
   "outputs": [
    {
     "name": "stdout",
     "output_type": "stream",
     "text": [
      "       Country          2006          2007          2008          2009  \\\n",
      "0        Aruba           NaN           NaN           NaN           NaN   \n",
      "1      Andorra  4.018196e+09  4.021331e+09  3.675728e+09  3.535389e+09   \n",
      "2  Afghanistan  1.030523e+10  1.172119e+10  1.214448e+10  1.469733e+10   \n",
      "3       Angola  5.581103e+10  6.842044e+10  7.787420e+10  7.975320e+10   \n",
      "4      Albania  9.771760e+09  1.034829e+10  1.112752e+10  1.150029e+10   \n",
      "\n",
      "           2010          2011          2012          2013          2014  \\\n",
      "0  2.467704e+09           NaN           NaN           NaN           NaN   \n",
      "1  3.346317e+09  3.185605e+09  3.129538e+09  3.127550e+09           NaN   \n",
      "2  1.593680e+10  1.691113e+10  1.935220e+10  1.973134e+10  1.999032e+10   \n",
      "3  8.247091e+10  8.570262e+10  9.012096e+10  9.626143e+10  1.008863e+11   \n",
      "4  1.192695e+10  1.223109e+10  1.240477e+10  1.254247e+10  1.279331e+10   \n",
      "\n",
      "           2015  \n",
      "0           NaN  \n",
      "1           NaN  \n",
      "2  2.029415e+10  \n",
      "3  1.039106e+11  \n",
      "4  1.312082e+10  \n"
     ]
    }
   ],
   "source": [
    "# Select only the last 10 years of 'GDP' data\n",
    "columnas_gdp = ['Country Name'] + list(map(str, range(2006, 2016)))\n",
    "GDP_ultimos_10 = GDP[columnas_gdp]\n",
    "GDP_ultimos_10 = GDP_ultimos_10.rename(columns={'Country Name': 'Country'})\n",
    "\n",
    "#Changin some countries name\n",
    "GDP_ultimos_10['Country'] = GDP_ultimos_10['Country'].replace({\n",
    "        \"Korea, Rep.\": \"South Korea\",\n",
    "        \"Iran, Islamic Rep.\": \"Iran\",\n",
    "        \"Hong Kong SAR, China\": \"Hong Kong\"\n",
    "})\n",
    "\n",
    "\n",
    "\n",
    "print(GDP_ultimos_10.head())"
   ]
  },
  {
   "attachments": {},
   "cell_type": "markdown",
   "metadata": {},
   "source": [
    "Finally, load the Sciamgo Journal and Country Rank data for Energy Engineering and Power Technology from the file assets/scimagojr-3.xlsx, which ranks countries based on their journal contributions in the aforementioned area. Call this DataFrame ScimEn.\n",
    "\n",
    "Join the three datasets: GDP, Energy, and ScimEn into a new dataset (using the intersection of country names). Use only the last 10 years (2006-2015) of GDP data and only the top 15 countries by Scimagojr 'Rank' (Rank 1 through 15)."
   ]
  },
  {
   "cell_type": "code",
   "execution_count": 152,
   "metadata": {},
   "outputs": [
    {
     "name": "stdout",
     "output_type": "stream",
     "text": [
      "    Rank             Country  Documents  Citable documents  Citations  \\\n",
      "0      1               China     127050             126767     597237   \n",
      "1      2       United States      96661              94747     792274   \n",
      "2      3               Japan      30504              30287     223024   \n",
      "3      4      United Kingdom      20944              20357     206091   \n",
      "4      5  Russian Federation      18534              18301      34266   \n",
      "5      6              Canada      17899              17620     215003   \n",
      "6      7             Germany      17027              16831     140566   \n",
      "7      8               India      15005              14841     128763   \n",
      "8      9              France      13153              12973     130632   \n",
      "9     10         South Korea      11983              11923     114675   \n",
      "10    11               Italy      10964              10794     111850   \n",
      "11    12               Spain       9428               9330     123336   \n",
      "12    13                Iran       8896               8819      57470   \n",
      "13    14           Australia       8831               8725      90765   \n",
      "14    15              Brazil       8668               8596      60702   \n",
      "\n",
      "    Self-citations  Citations per document  H index  \n",
      "0           411683                    4.70      138  \n",
      "1           265436                    8.20      230  \n",
      "2            61554                    7.31      134  \n",
      "3            37874                    9.84      139  \n",
      "4            12422                    1.85       57  \n",
      "5            40930                   12.01      149  \n",
      "6            27426                    8.26      126  \n",
      "7            37209                    8.58      115  \n",
      "8            28601                    9.93      114  \n",
      "9            22595                    9.57      104  \n",
      "10           26661                   10.20      106  \n",
      "11           23964                   13.08      115  \n",
      "12           19125                    6.46       72  \n",
      "13           15606                   10.28      107  \n",
      "14           14396                    7.00       86  \n"
     ]
    }
   ],
   "source": [
    "# Select only the first 15 countries of 'ScimEn' according to the 'Rank'\n",
    "ScimEn_top15 = ScimEn.loc[ScimEn['Rank'] <= 15]\n",
    "print(ScimEn_top15)"
   ]
  },
  {
   "attachments": {},
   "cell_type": "markdown",
   "metadata": {},
   "source": [
    "The index of this DataFrame should be the name of the country, and the columns should be ['Rank', 'Documents', 'Citable documents', 'Citations', 'Self-citations', 'Citations per document', 'H index', 'Energy Supply', 'Energy Supply per Capita', '% Renewable', '2006', '2007', '2008', '2009', '2010', '2011', '2012', '2013', '2014', '2015'].\n",
    "\n",
    "This function should return a DataFrame with 20 columns and 15 entries, and the rows of the DataFrame should be sorted by \"Rank\"."
   ]
  },
  {
   "cell_type": "code",
   "execution_count": 154,
   "metadata": {},
   "outputs": [
    {
     "name": "stdout",
     "output_type": "stream",
     "text": [
      "Shape of final merge (15, 20)\n"
     ]
    }
   ],
   "source": [
    "# Join the data sets into a single data set using the intersection of country names\n",
    "\n",
    "merged_df = pd.merge(ScimEn_top15, Energy, how='inner', on='Country')\n",
    "#print(\"first merge:\", merged_df['Country'])\n",
    "merged_df_2 = pd.merge(merged_df, GDP_ultimos_10, how='inner', on='Country')\n",
    "#print(\"Shape of merge 2\",merged_df_2.shape)\n",
    "df = merged_df_2.set_index('Country')\n",
    "print(\"Shape of final merge\",df.shape)\n"
   ]
  },
  {
   "attachments": {},
   "cell_type": "markdown",
   "metadata": {},
   "source": [
    "Question 2\n",
    "\n",
    " The previous question joined three datasets then reduced this to just the top 15 entries. When you joined the datasets, but before you reduced this to the top 15 items, how many entries did you lose?\n",
    "\n",
    "This function should return a single number."
   ]
  },
  {
   "cell_type": "code",
   "execution_count": 2,
   "metadata": {},
   "outputs": [
    {
     "name": "stdout",
     "output_type": "stream",
     "text": [
      "          Country  Energy Supply  Energy Supply per Capita  % Renewable\n",
      "0     Afghanistan   3.210000e+08                      10.0    78.669280\n",
      "1         Albania   1.020000e+08                      35.0   100.000000\n",
      "2         Algeria   1.959000e+09                      51.0     0.551010\n",
      "3  American Samoa            NaN                       NaN     0.641026\n",
      "4         Andorra   9.000000e+06                     121.0    88.695650\n",
      "       Country          2006          2007          2008          2009  \\\n",
      "0        Aruba           NaN           NaN           NaN           NaN   \n",
      "1      Andorra  4.018196e+09  4.021331e+09  3.675728e+09  3.535389e+09   \n",
      "2  Afghanistan  1.030523e+10  1.172119e+10  1.214448e+10  1.469733e+10   \n",
      "3       Angola  5.581103e+10  6.842044e+10  7.787420e+10  7.975320e+10   \n",
      "4      Albania  9.771760e+09  1.034829e+10  1.112752e+10  1.150029e+10   \n",
      "\n",
      "           2010          2011          2012          2013          2014  \\\n",
      "0  2.467704e+09           NaN           NaN           NaN           NaN   \n",
      "1  3.346317e+09  3.185605e+09  3.129538e+09  3.127550e+09           NaN   \n",
      "2  1.593680e+10  1.691113e+10  1.935220e+10  1.973134e+10  1.999032e+10   \n",
      "3  8.247091e+10  8.570262e+10  9.012096e+10  9.626143e+10  1.008863e+11   \n",
      "4  1.192695e+10  1.223109e+10  1.240477e+10  1.254247e+10  1.279331e+10   \n",
      "\n",
      "           2015  \n",
      "0           NaN  \n",
      "1           NaN  \n",
      "2  2.029415e+10  \n",
      "3  1.039106e+11  \n",
      "4  1.312082e+10  \n"
     ]
    }
   ],
   "source": [
    "import pandas as pd\n",
    "import numpy as np\n",
    "\n",
    "#THE SAME PROCESS AS THE QUESTION 1\n",
    "\n",
    "#Load Data\n",
    "GDP = pd.read_csv('assets/world_bank.csv', skiprows=4)\n",
    "Energy = pd.read_excel('assets/Energy Indicators.xls', skiprows=17, skipfooter=38)\n",
    "ScimEn = pd.read_excel('assets/scimagojr-3.xlsx')\n",
    "\n",
    "\n",
    "##CLEANING PROCESS on Energy\n",
    "Energy = Energy.drop(Energy.columns[[0, 1]], axis=1)\n",
    "Energy.columns = ['Country', 'Energy Supply', 'Energy Supply per Capita', '% Renewable']\n",
    "Energy['Energy Supply'] = Energy['Energy Supply'].replace('...', np.nan)\n",
    "Energy['Energy Supply per Capita'] = Energy['Energy Supply per Capita'].replace('...', np.nan)\n",
    "Energy['Energy Supply'] = Energy['Energy Supply'].apply(lambda x: x * 1000000 if not np.isnan(x) else x)\n",
    "\n",
    "print(Energy.head())\n",
    "\n",
    "# Convert country names in 'Energy' and 'ScimEn' dataset\n",
    "def limpiar_nombre_pais(nombre_pais):\n",
    "# Remove numbers and parentheses from country name\n",
    "        nombre_pais = ''.join([i for i in nombre_pais if not i.isdigit()]).split(' (')[0]\n",
    "        # Replace some country names\n",
    "        nombre_pais = nombre_pais.replace(\"Republic of Korea\", \"South Korea\")\n",
    "        nombre_pais = nombre_pais.replace(\"United States of America\", \"United States\")\n",
    "        nombre_pais = nombre_pais.replace(\"United Kingdom of Great Britain and Northern Ireland\", \"United Kingdom\")\n",
    "        nombre_pais = nombre_pais.replace(\"China, Hong Kong Special Administrative Region\", \"Hong Kong\")\n",
    "        return nombre_pais.strip()\n",
    "\n",
    "\n",
    "Energy['Country'] = Energy['Country'].apply(limpiar_nombre_pais)\n",
    "ScimEn['Country'] = ScimEn['Country'].apply(limpiar_nombre_pais)\n",
    "\n",
    "# Select only the last 10 years of 'GDP' data\n",
    "columnas_gdp = ['Country Name'] + list(map(str, range(2006, 2016)))\n",
    "GDP_ultimos_10 = GDP[columnas_gdp]\n",
    "GDP_ultimos_10 = GDP_ultimos_10.rename(columns={'Country Name': 'Country'})\n",
    "\n",
    "#Changin some countries name on GDP\n",
    "GDP_ultimos_10['Country'] = GDP_ultimos_10['Country'].replace({\n",
    "        \"Korea, Rep.\": \"South Korea\",\n",
    "        \"Iran, Islamic Rep.\": \"Iran\",\n",
    "        \"Hong Kong SAR, China\": \"Hong Kong\"\n",
    "})\n",
    "\n",
    "print(GDP_ultimos_10.head())"
   ]
  },
  {
   "cell_type": "code",
   "execution_count": 10,
   "metadata": {},
   "outputs": [
    {
     "name": "stdout",
     "output_type": "stream",
     "text": [
      "156\n"
     ]
    }
   ],
   "source": [
    "#Here is the main part of the excersice \n",
    "\n",
    "# 1. Join the data sets into a single data set using the intersection of country names\n",
    "\n",
    "in_merged_df = pd.merge(ScimEn, Energy, how='inner', on='Country')\n",
    "#print(\"first merge:\", merged_df['Country'])\n",
    "in_merged_df_2 = pd.merge(in_merged_df, GDP_ultimos_10, how='inner', on='Country')\n",
    "#print(\"Shape of merge 2\",merged_df_2.shape)\n",
    "in_df_total = in_merged_df_2.set_index('Country')\n",
    "#print(\"Shape of final merge inner\",in_df_total.shape)\n",
    "\n",
    "\n",
    "#Now, 2. using outter\n",
    "out_merged_df = pd.merge(ScimEn, Energy, how='outer', left_on=\"Country\",right_on=\"Country\")\n",
    "#print(\"first merge:\", merged_df['Country'])\n",
    "out_merged_df_2 = pd.merge(out_merged_df, GDP_ultimos_10, how='outer', left_on=\"Country\",right_on=\"Country\")\n",
    "#print(\"Shape of merge 2\",merged_df_2.shape)\n",
    "out_df_total = out_merged_df_2.set_index('Country')\n",
    "#print(\"Shape of final merge outer\",out_df_total.shape)\n",
    "\n",
    "#The result will be (outer entries - inner entries)\n",
    "r = out_df_total.shape[0] - in_df_total.shape[0]\n",
    "\n",
    "print(r)\n",
    "\n"
   ]
  },
  {
   "attachments": {},
   "cell_type": "markdown",
   "metadata": {},
   "source": [
    "What are the top 15 countries for average GDP over the last 10 years?\n",
    "\n",
    "This function should return a Series named avgGDP with 15 countries and their average GDP sorted in descending order."
   ]
  },
  {
   "cell_type": "code",
   "execution_count": null,
   "metadata": {},
   "outputs": [],
   "source": []
  }
 ],
 "metadata": {
  "kernelspec": {
   "display_name": "Python 3",
   "language": "python",
   "name": "python3"
  },
  "language_info": {
   "codemirror_mode": {
    "name": "ipython",
    "version": 3
   },
   "file_extension": ".py",
   "mimetype": "text/x-python",
   "name": "python",
   "nbconvert_exporter": "python",
   "pygments_lexer": "ipython3",
   "version": "3.11.2"
  },
  "orig_nbformat": 4,
  "vscode": {
   "interpreter": {
    "hash": "089ac0cf01c6a70b518ec0a845f312a289c250936437326a5aa3c983f7abeb2a"
   }
  }
 },
 "nbformat": 4,
 "nbformat_minor": 2
}
