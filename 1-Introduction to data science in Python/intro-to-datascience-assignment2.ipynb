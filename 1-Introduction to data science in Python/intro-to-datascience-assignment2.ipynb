{
 "cells": [
  {
   "attachments": {},
   "cell_type": "markdown",
   "metadata": {},
   "source": [
    "The following file is for Assignment 2 for the Course \"Introduction to Data Science\" from Michigan University on the Coursera platform"
   ]
  },
  {
   "cell_type": "code",
   "execution_count": 2,
   "metadata": {},
   "outputs": [
    {
     "data": {
      "text/html": [
       "<div>\n",
       "<style scoped>\n",
       "    .dataframe tbody tr th:only-of-type {\n",
       "        vertical-align: middle;\n",
       "    }\n",
       "\n",
       "    .dataframe tbody tr th {\n",
       "        vertical-align: top;\n",
       "    }\n",
       "\n",
       "    .dataframe thead th {\n",
       "        text-align: right;\n",
       "    }\n",
       "</style>\n",
       "<table border=\"1\" class=\"dataframe\">\n",
       "  <thead>\n",
       "    <tr style=\"text-align: right;\">\n",
       "      <th></th>\n",
       "      <th>SEQNUMC</th>\n",
       "      <th>SEQNUMHH</th>\n",
       "      <th>PDAT</th>\n",
       "      <th>PROVWT_D</th>\n",
       "      <th>RDDWT_D</th>\n",
       "      <th>STRATUM</th>\n",
       "      <th>YEAR</th>\n",
       "      <th>AGECPOXR</th>\n",
       "      <th>HAD_CPOX</th>\n",
       "      <th>AGEGRP</th>\n",
       "      <th>...</th>\n",
       "      <th>XVRCTY2</th>\n",
       "      <th>XVRCTY3</th>\n",
       "      <th>XVRCTY4</th>\n",
       "      <th>XVRCTY5</th>\n",
       "      <th>XVRCTY6</th>\n",
       "      <th>XVRCTY7</th>\n",
       "      <th>XVRCTY8</th>\n",
       "      <th>XVRCTY9</th>\n",
       "      <th>INS_STAT2_I</th>\n",
       "      <th>INS_BREAK_I</th>\n",
       "    </tr>\n",
       "  </thead>\n",
       "  <tbody>\n",
       "    <tr>\n",
       "      <th>1</th>\n",
       "      <td>128521</td>\n",
       "      <td>12852</td>\n",
       "      <td>2</td>\n",
       "      <td>NaN</td>\n",
       "      <td>235.916956</td>\n",
       "      <td>1031</td>\n",
       "      <td>2017</td>\n",
       "      <td>NaN</td>\n",
       "      <td>2</td>\n",
       "      <td>1</td>\n",
       "      <td>...</td>\n",
       "      <td></td>\n",
       "      <td></td>\n",
       "      <td>NaN</td>\n",
       "      <td>NaN</td>\n",
       "      <td>NaN</td>\n",
       "      <td>NaN</td>\n",
       "      <td>NaN</td>\n",
       "      <td>NaN</td>\n",
       "      <td>NaN</td>\n",
       "      <td>NaN</td>\n",
       "    </tr>\n",
       "    <tr>\n",
       "      <th>2</th>\n",
       "      <td>10741</td>\n",
       "      <td>1074</td>\n",
       "      <td>2</td>\n",
       "      <td>NaN</td>\n",
       "      <td>957.353840</td>\n",
       "      <td>1068</td>\n",
       "      <td>2017</td>\n",
       "      <td>NaN</td>\n",
       "      <td>2</td>\n",
       "      <td>1</td>\n",
       "      <td>...</td>\n",
       "      <td></td>\n",
       "      <td></td>\n",
       "      <td>NaN</td>\n",
       "      <td>NaN</td>\n",
       "      <td>NaN</td>\n",
       "      <td>NaN</td>\n",
       "      <td>NaN</td>\n",
       "      <td>NaN</td>\n",
       "      <td>NaN</td>\n",
       "      <td>NaN</td>\n",
       "    </tr>\n",
       "    <tr>\n",
       "      <th>3</th>\n",
       "      <td>220011</td>\n",
       "      <td>22001</td>\n",
       "      <td>2</td>\n",
       "      <td>NaN</td>\n",
       "      <td>189.611299</td>\n",
       "      <td>1050</td>\n",
       "      <td>2017</td>\n",
       "      <td>NaN</td>\n",
       "      <td>2</td>\n",
       "      <td>3</td>\n",
       "      <td>...</td>\n",
       "      <td></td>\n",
       "      <td></td>\n",
       "      <td>NaN</td>\n",
       "      <td>NaN</td>\n",
       "      <td>NaN</td>\n",
       "      <td>NaN</td>\n",
       "      <td>NaN</td>\n",
       "      <td>NaN</td>\n",
       "      <td>NaN</td>\n",
       "      <td>NaN</td>\n",
       "    </tr>\n",
       "    <tr>\n",
       "      <th>4</th>\n",
       "      <td>86131</td>\n",
       "      <td>8613</td>\n",
       "      <td>1</td>\n",
       "      <td>675.430817</td>\n",
       "      <td>333.447418</td>\n",
       "      <td>1040</td>\n",
       "      <td>2017</td>\n",
       "      <td>NaN</td>\n",
       "      <td>2</td>\n",
       "      <td>1</td>\n",
       "      <td>...</td>\n",
       "      <td></td>\n",
       "      <td></td>\n",
       "      <td>NaN</td>\n",
       "      <td>NaN</td>\n",
       "      <td>NaN</td>\n",
       "      <td>NaN</td>\n",
       "      <td>NaN</td>\n",
       "      <td>NaN</td>\n",
       "      <td>1.0</td>\n",
       "      <td>2.0</td>\n",
       "    </tr>\n",
       "    <tr>\n",
       "      <th>5</th>\n",
       "      <td>227141</td>\n",
       "      <td>22714</td>\n",
       "      <td>1</td>\n",
       "      <td>482.617748</td>\n",
       "      <td>278.768063</td>\n",
       "      <td>1008</td>\n",
       "      <td>2017</td>\n",
       "      <td>NaN</td>\n",
       "      <td>2</td>\n",
       "      <td>1</td>\n",
       "      <td>...</td>\n",
       "      <td></td>\n",
       "      <td></td>\n",
       "      <td>NaN</td>\n",
       "      <td>NaN</td>\n",
       "      <td>NaN</td>\n",
       "      <td>NaN</td>\n",
       "      <td>NaN</td>\n",
       "      <td>NaN</td>\n",
       "      <td>2.0</td>\n",
       "      <td>1.0</td>\n",
       "    </tr>\n",
       "  </tbody>\n",
       "</table>\n",
       "<p>5 rows × 453 columns</p>\n",
       "</div>"
      ],
      "text/plain": [
       "   SEQNUMC  SEQNUMHH  PDAT    PROVWT_D     RDDWT_D  STRATUM  YEAR  AGECPOXR  \\\n",
       "1   128521     12852     2         NaN  235.916956     1031  2017       NaN   \n",
       "2    10741      1074     2         NaN  957.353840     1068  2017       NaN   \n",
       "3   220011     22001     2         NaN  189.611299     1050  2017       NaN   \n",
       "4    86131      8613     1  675.430817  333.447418     1040  2017       NaN   \n",
       "5   227141     22714     1  482.617748  278.768063     1008  2017       NaN   \n",
       "\n",
       "   HAD_CPOX  AGEGRP  ...  XVRCTY2  XVRCTY3  XVRCTY4  XVRCTY5  XVRCTY6  \\\n",
       "1         2       1  ...                        NaN      NaN      NaN   \n",
       "2         2       1  ...                        NaN      NaN      NaN   \n",
       "3         2       3  ...                        NaN      NaN      NaN   \n",
       "4         2       1  ...                        NaN      NaN      NaN   \n",
       "5         2       1  ...                        NaN      NaN      NaN   \n",
       "\n",
       "   XVRCTY7  XVRCTY8  XVRCTY9  INS_STAT2_I  INS_BREAK_I  \n",
       "1      NaN      NaN      NaN          NaN          NaN  \n",
       "2      NaN      NaN      NaN          NaN          NaN  \n",
       "3      NaN      NaN      NaN          NaN          NaN  \n",
       "4      NaN      NaN      NaN          1.0          2.0  \n",
       "5      NaN      NaN      NaN          2.0          1.0  \n",
       "\n",
       "[5 rows x 453 columns]"
      ]
     },
     "execution_count": 2,
     "metadata": {},
     "output_type": "execute_result"
    }
   ],
   "source": [
    "import pandas as pd\n",
    "pd.set_option('display.max_rows', None)\n",
    "data = pd.read_csv(\"datasets/NISPUF17.csv\",index_col=0)\n",
    "data.head()"
   ]
  },
  {
   "attachments": {},
   "cell_type": "markdown",
   "metadata": {},
   "source": [
    "Question 1: Write a function called proportion_of_education which returns the proportion of children in the dataset who had a mother with the education levels equal to less than high school (<12), high school (12), more than high school but not a college graduate (>12) and college degree.\n",
    "\n",
    "This function should return a dictionary in the form of (use the correct numbers, do not round numbers):\n",
    "\n",
    "    {\"less than high school\":0.2,\n",
    "    \"high school\":0.4,\n",
    "    \"more than high school but not college\":0.2,\n",
    "    \"college\":0.2}"
   ]
  },
  {
   "cell_type": "code",
   "execution_count": 19,
   "metadata": {},
   "outputs": [
    {
     "name": "stdout",
     "output_type": "stream",
     "text": [
      "{'less than high school': 0.10202002459160373, 'high school': 0.172352011241876, 'more than high school but not college': 0.24588090637625154, 'college': 0.47974705779026877}\n"
     ]
    }
   ],
   "source": [
    "# Extract the maternal education\n",
    "momedu = data['EDUC1']\n",
    "\n",
    "# Calculate the proportion of each level of maternal education\n",
    "less_than_hs = (momedu == 1).mean()\n",
    "equal_hs = (momedu == 2).mean()\n",
    "more_than_hs = (momedu == 3).mean()\n",
    "college = (momedu == 4).mean()\n",
    "\n",
    "# Create a dictionary to store the proportions\n",
    "proportion_of_education = {'less than high school': less_than_hs,\n",
    "                            'high school':equal_hs,\n",
    "                            'more than high school but not college':more_than_hs,\n",
    "                            'college':college}\n",
    "\n",
    "# Print the dictionary\n",
    "print(proportion_of_education)\n"
   ]
  },
  {
   "attachments": {},
   "cell_type": "markdown",
   "metadata": {},
   "source": [
    "Question 2: Let's explore the relationship between being fed breastmilk as a child and getting a seasonal influenza vaccine from a healthcare provider. Return a tuple of the average number of influenza vaccines for those children we know received breastmilk as a child and those who know did not.\n",
    "\n",
    "This function should return a tuple in the form (use the correct numbers:\n",
    "\n",
    "(2.5, 0.1)\n"
   ]
  },
  {
   "cell_type": "code",
   "execution_count": 23,
   "metadata": {},
   "outputs": [
    {
     "name": "stdout",
     "output_type": "stream",
     "text": [
      "1.8799187420058687 1.5963945918878317\n"
     ]
    }
   ],
   "source": [
    "#first 'CBF_01' is the colum child ever fed breast milk and second,'P_NUMFLU' the total number of seasonal influenza doses\n",
    "\n",
    "milk_and_vac = data.loc[data[\"CBF_01\"] == 1, \"P_NUMFLU\"].mean() #children fed with milk and number of vaccines\n",
    "not_milk_and_vac = data.loc[data[\"CBF_01\"] == 2,\"P_NUMFLU\"].mean() #children not fed with milk and number of vaccines\n",
    "\n",
    "print(milk_and_vac,not_milk_and_vac)"
   ]
  },
  {
   "attachments": {},
   "cell_type": "markdown",
   "metadata": {},
   "source": [
    "Question 3:It would be interesting to see if there is any evidence of a link between vaccine effectiveness and sex of the child. Calculate the ratio of the number of children who contracted chickenpox but were vaccinated against it (at least one varicella dose) versus those who were vaccinated but did not contract chicken pox. Return results by sex.\n",
    "\n",
    "This function should return a dictionary in the form of (use the correct numbers):\n",
    "\n",
    "    {\"male\":0.2,\n",
    "    \"female\":0.4}\n",
    "Note: To aid in verification, the chickenpox_by_sex()['female'] value the autograder is looking for starts with the digits 0.0077."
   ]
  },
  {
   "cell_type": "code",
   "execution_count": 30,
   "metadata": {},
   "outputs": [
    {
     "data": {
      "text/plain": [
       "{'male': 0.009675583380762664, 'female': 0.0077918259335489565}"
      ]
     },
     "execution_count": 30,
     "metadata": {},
     "output_type": "execute_result"
    }
   ],
   "source": [
    "# Filter data only for children who have received the vaccine againts varicella at least one time\n",
    "chicken = data.loc[data['P_NUMVRC'] >= 1, ['SEX', 'HAD_CPOX']]\n",
    "\n",
    "# Count the number of male and female children who received the chickenpox vaccine and had chickenpox\n",
    "chicken_male = chicken.loc[chicken['SEX'] == 1, 'HAD_CPOX'].value_counts()\n",
    "#print(chicken_male) \n",
    "chicken_female = chicken.loc[chicken['SEX'] == 2, 'HAD_CPOX'].value_counts()\n",
    "#print(chicken_female)\n",
    "\n",
    "# Calculate the ratio of male to female children who received the chickenpox vaccine and had chickenpox\n",
    "ratio_male = chicken_male[1] / chicken_male[2]\n",
    "ratio_female = chicken_female[1] / chicken_female[2]\n",
    "\n",
    "{'male':ratio_male,'female':ratio_female}\n"
   ]
  },
  {
   "attachments": {},
   "cell_type": "markdown",
   "metadata": {},
   "source": [
    "Question 4: A correlation is a statistical relationship between two variables. If we wanted to know if vaccines work, we might look at the correlation between the use of the vaccine and whether it results in prevention of the infection or disease [1]. In this question, you are to see if there is a correlation between having had the chicken pox and the number of chickenpox vaccine doses given (varicella).\n",
    "\n",
    "Some notes on interpreting the answer. The had_chickenpox_column is either 1 (for yes) or 2 (for no), and the num_chickenpox_vaccine_column is the number of doses a child has been given of the varicella vaccine. A positive correlation (e.g., corr > 0) means that an increase in had_chickenpox_column (which means more no’s) would also increase the values of num_chickenpox_vaccine_column (which means more doses of vaccine). If there is a negative correlation (e.g., corr < 0), it indicates that having had chickenpox is related to an increase in the number of vaccine doses.\n",
    "\n",
    "Also, pval is the probability that we observe a correlation between had_chickenpox_column and num_chickenpox_vaccine_column which is greater than or equal to a particular value occurred by chance. A small pval means that the observed correlation is highly unlikely to occur by chance. In this case, pval should be very small (will end in e-18 indicating a very small number).\n",
    "\n",
    "[1] This isn’t really the full picture, since we are not looking at when the dose was given. It’s possible that children had chickenpox and then their parents went to get them the vaccine. Does this dataset have the data we would need to investigate the timing of the dose?"
   ]
  },
  {
   "cell_type": "code",
   "execution_count": 1,
   "metadata": {},
   "outputs": [
    {
     "name": "stdout",
     "output_type": "stream",
     "text": [
      "0.07044873460147864\n"
     ]
    }
   ],
   "source": [
    "import scipy.stats as stats\n",
    "import numpy as np\n",
    "import pandas as pd\n",
    "    \n",
    "      \n",
    "# this is just an example dataframe\n",
    "df=pd.DataFrame({\"had_chickenpox_column\":np.random.randint(1,3,size=(100)),\n",
    "              \"num_chickenpox_vaccine_column\":np.random.randint(0,6,size=(100))})\n",
    "\n",
    "# here is some stub code to actually run the correlation\n",
    "corr, pval=stats.pearsonr(df[\"had_chickenpox_column\"],df[\"num_chickenpox_vaccine_column\"])\n",
    "    \n",
    "\n",
    "df = pd.read_csv(\"datasets/NISPUF17.csv\", index_col=0)\n",
    "\n",
    "df=df[df['HAD_CPOX'].lt(3)].loc[:,['HAD_CPOX','P_NUMVRC']].dropna()\n",
    "df.columns=['had_chickenpox_column','num_chickenpox_vaccine_column']\n",
    "# here is some stub code to actually run the correlation\n",
    "corr, pval=stats.pearsonr(df[\"had_chickenpox_column\"],df[\"num_chickenpox_vaccine_column\"])\n",
    "    \n",
    "# just return the correlation\n",
    "print(corr)"
   ]
  }
 ],
 "metadata": {
  "kernelspec": {
   "display_name": "Python 3",
   "language": "python",
   "name": "python3"
  },
  "language_info": {
   "codemirror_mode": {
    "name": "ipython",
    "version": 3
   },
   "file_extension": ".py",
   "mimetype": "text/x-python",
   "name": "python",
   "nbconvert_exporter": "python",
   "pygments_lexer": "ipython3",
   "version": "3.11.2"
  },
  "orig_nbformat": 4,
  "vscode": {
   "interpreter": {
    "hash": "089ac0cf01c6a70b518ec0a845f312a289c250936437326a5aa3c983f7abeb2a"
   }
  }
 },
 "nbformat": 4,
 "nbformat_minor": 2
}
