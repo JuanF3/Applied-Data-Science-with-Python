{
 "cells": [
  {
   "cell_type": "code",
   "execution_count": 1,
   "id": "02f07dc1",
   "metadata": {
    "_cell_guid": "b1076dfc-b9ad-4769-8c92-a6c4dae69d19",
    "_uuid": "8f2839f25d086af736a60e9eeb907d3b93b6e0e5",
    "execution": {
     "iopub.execute_input": "2024-02-07T15:13:53.423669Z",
     "iopub.status.busy": "2024-02-07T15:13:53.422736Z",
     "iopub.status.idle": "2024-02-07T15:13:54.480695Z",
     "shell.execute_reply": "2024-02-07T15:13:54.479359Z"
    },
    "papermill": {
     "duration": 1.070971,
     "end_time": "2024-02-07T15:13:54.483774",
     "exception": false,
     "start_time": "2024-02-07T15:13:53.412803",
     "status": "completed"
    },
    "tags": []
   },
   "outputs": [
    {
     "name": "stdout",
     "output_type": "stream",
     "text": [
      "/kaggle/input/messy-text-data/dates.txt\n"
     ]
    }
   ],
   "source": [
    "\n",
    "import numpy as np # linear algebra\n",
    "import pandas as pd # data processing, CSV file I/O (e.g. pd.read_csv)\n",
    "import re #regular expressions\n",
    "\n",
    "import os\n",
    "for dirname, _, filenames in os.walk('/kaggle/input'):\n",
    "    for filename in filenames:\n",
    "        print(os.path.join(dirname, filename))\n"
   ]
  },
  {
   "cell_type": "markdown",
   "id": "2c3f6bd7",
   "metadata": {
    "papermill": {
     "duration": 0.006363,
     "end_time": "2024-02-07T15:13:54.496834",
     "exception": false,
     "start_time": "2024-02-07T15:13:54.490471",
     "status": "completed"
    },
    "tags": []
   },
   "source": [
    "This is the first assignment in the course Applied Text Mining in Python from Michigan University. In this assignment, you'll be working with messy medical data and using regex to extract relevant infromation from the data.\n",
    "Each line of the dates.txt file corresponds to a medical note. Each note has a date that needs to be extracted, but each date is encoded in one of many formats. The goal of this assignment is to correctly identify all of the different date variants encoded in this dataset and to properly normalize and sort the dates.\n",
    "\n",
    "Here is a list of some of the variants you might encounter in this dataset:\n",
    "\n",
    "* 04/20/2009; 04/20/09; 4/20/09; 4/3/09\n",
    "* Mar-20-2009; Mar 20, 2009; March 20, 2009; Mar. 20, 2009; Mar 20 2009;\n",
    "* 20 Mar 2009; 20 March 2009; 20 Mar. 2009; 20 March, 2009\n",
    "* Mar 20th, 2009; Mar 21st, 2009; Mar 22nd, 2009\n",
    "* Feb 2009; Sep 2009; Oct 2010\n",
    "* 6/2008; 12/2009\n",
    "* 2009; 2010\n",
    "\n",
    "Once you have extracted these date patterns from the text, the next step is to sort them in ascending chronological order accoring to the following rules:\n",
    "\n",
    "* Assume all dates in xx/xx/xx format are mm/dd/yy\n",
    "* Assume all dates where year is encoded in only two digits are years from the 1900's (e.g. 1/5/89 is January 5th, 1989)\n",
    "* If the day is missing (e.g. 9/2009), assume it is the first day of the month (e.g. September 1, 2009).\n",
    "* If the month is missing (e.g. 2010), assume it is the first of January of that year (e.g. January 1, 2010).\n",
    "* Watch out for potential typos as this is a raw, real-life derived dataset.\n",
    "* With these rules in mind, find the correct date in each note and return a pandas Series in chronological order of the original Series' indices. This Series should be sorted by a tie-break sort in the format of (\"extracted date\", \"original row number\")."
   ]
  },
  {
   "cell_type": "markdown",
   "id": "0570a753",
   "metadata": {
    "papermill": {
     "duration": 0.006059,
     "end_time": "2024-02-07T15:13:54.509464",
     "exception": false,
     "start_time": "2024-02-07T15:13:54.503405",
     "status": "completed"
    },
    "tags": []
   },
   "source": [
    "For example if the original series was this:\n",
    "\n",
    "    0    1999\n",
    "    1    2010\n",
    "    2    1978\n",
    "    3    2015\n",
    "    4    1985\n",
    "\n",
    "Your function should return this:\n",
    "\n",
    "    0    2\n",
    "    1    4\n",
    "    2    0\n",
    "    3    1\n",
    "    4    3\n",
    "\n",
    "Your score will be calculated using [Kendall's tau](https://en.wikipedia.org/wiki/Kendall_rank_correlation_coefficient), a correlation measure for ordinal data.\n",
    "\n",
    "*This function should return a Series of length 500 and dtype int.*"
   ]
  },
  {
   "cell_type": "code",
   "execution_count": 2,
   "id": "8969e45e",
   "metadata": {
    "execution": {
     "iopub.execute_input": "2024-02-07T15:13:54.524058Z",
     "iopub.status.busy": "2024-02-07T15:13:54.523539Z",
     "iopub.status.idle": "2024-02-07T15:13:54.584510Z",
     "shell.execute_reply": "2024-02-07T15:13:54.583379Z"
    },
    "papermill": {
     "duration": 0.071108,
     "end_time": "2024-02-07T15:13:54.586981",
     "exception": false,
     "start_time": "2024-02-07T15:13:54.515873",
     "status": "completed"
    },
    "tags": []
   },
   "outputs": [
    {
     "data": {
      "text/html": [
       "<div>\n",
       "<style scoped>\n",
       "    .dataframe tbody tr th:only-of-type {\n",
       "        vertical-align: middle;\n",
       "    }\n",
       "\n",
       "    .dataframe tbody tr th {\n",
       "        vertical-align: top;\n",
       "    }\n",
       "\n",
       "    .dataframe thead th {\n",
       "        text-align: right;\n",
       "    }\n",
       "</style>\n",
       "<table border=\"1\" class=\"dataframe\">\n",
       "  <thead>\n",
       "    <tr style=\"text-align: right;\">\n",
       "      <th></th>\n",
       "      <th>text</th>\n",
       "    </tr>\n",
       "  </thead>\n",
       "  <tbody>\n",
       "    <tr>\n",
       "      <th>0</th>\n",
       "      <td>03/25/93 Total time of visit (in minutes):\\n</td>\n",
       "    </tr>\n",
       "    <tr>\n",
       "      <th>1</th>\n",
       "      <td>6/18/85 Primary Care Doctor:\\n</td>\n",
       "    </tr>\n",
       "    <tr>\n",
       "      <th>2</th>\n",
       "      <td>sshe plans to move as of 7/8/71 In-Home Servic...</td>\n",
       "    </tr>\n",
       "    <tr>\n",
       "      <th>3</th>\n",
       "      <td>7 on 9/27/75 Audit C Score Current:\\n</td>\n",
       "    </tr>\n",
       "    <tr>\n",
       "      <th>4</th>\n",
       "      <td>2/6/96 sleep studyPain Treatment Pain Level (N...</td>\n",
       "    </tr>\n",
       "    <tr>\n",
       "      <th>5</th>\n",
       "      <td>.Per 7/06/79 Movement D/O note:\\n</td>\n",
       "    </tr>\n",
       "    <tr>\n",
       "      <th>6</th>\n",
       "      <td>4, 5/18/78 Patient's thoughts about current su...</td>\n",
       "    </tr>\n",
       "    <tr>\n",
       "      <th>7</th>\n",
       "      <td>10/24/89 CPT Code: 90801 - Psychiatric Diagnos...</td>\n",
       "    </tr>\n",
       "    <tr>\n",
       "      <th>8</th>\n",
       "      <td>3/7/86 SOS-10 Total Score:\\n</td>\n",
       "    </tr>\n",
       "    <tr>\n",
       "      <th>9</th>\n",
       "      <td>(4/10/71)Score-1Audit C Score Current:\\n</td>\n",
       "    </tr>\n",
       "  </tbody>\n",
       "</table>\n",
       "</div>"
      ],
      "text/plain": [
       "                                                text\n",
       "0       03/25/93 Total time of visit (in minutes):\\n\n",
       "1                     6/18/85 Primary Care Doctor:\\n\n",
       "2  sshe plans to move as of 7/8/71 In-Home Servic...\n",
       "3              7 on 9/27/75 Audit C Score Current:\\n\n",
       "4  2/6/96 sleep studyPain Treatment Pain Level (N...\n",
       "5                  .Per 7/06/79 Movement D/O note:\\n\n",
       "6  4, 5/18/78 Patient's thoughts about current su...\n",
       "7  10/24/89 CPT Code: 90801 - Psychiatric Diagnos...\n",
       "8                       3/7/86 SOS-10 Total Score:\\n\n",
       "9           (4/10/71)Score-1Audit C Score Current:\\n"
      ]
     },
     "execution_count": 2,
     "metadata": {},
     "output_type": "execute_result"
    }
   ],
   "source": [
    "doc = []\n",
    "with open('/kaggle/input/messy-text-data/dates.txt') as file:\n",
    "    for line in file:\n",
    "        doc.append(line)\n",
    "\n",
    "df = pd.Series(doc)\n",
    "df = pd.DataFrame(df, columns=['text'])\n",
    "df.head(10)"
   ]
  },
  {
   "cell_type": "markdown",
   "id": "d49e2386",
   "metadata": {
    "papermill": {
     "duration": 0.007146,
     "end_time": "2024-02-07T15:13:54.600742",
     "exception": false,
     "start_time": "2024-02-07T15:13:54.593596",
     "status": "completed"
    },
    "tags": []
   },
   "source": [
    "In this part of the code we create the different patterns to iterate over all the data, then I create a list for all the patterns to iterate over all the pattern from 1 to 10"
   ]
  },
  {
   "cell_type": "code",
   "execution_count": 3,
   "id": "a1111196",
   "metadata": {
    "execution": {
     "iopub.execute_input": "2024-02-07T15:13:54.617781Z",
     "iopub.status.busy": "2024-02-07T15:13:54.617061Z",
     "iopub.status.idle": "2024-02-07T15:13:54.623718Z",
     "shell.execute_reply": "2024-02-07T15:13:54.622832Z"
    },
    "papermill": {
     "duration": 0.01822,
     "end_time": "2024-02-07T15:13:54.626305",
     "exception": false,
     "start_time": "2024-02-07T15:13:54.608085",
     "status": "completed"
    },
    "tags": []
   },
   "outputs": [],
   "source": [
    "\n",
    "pattern1 = r'(?P<month>\\d{1,2})[-/\\s](?P<day>\\d{1,2})[-/\\s](?P<year>\\d{2,4})'   # (dd/mm/yy) or (dd/mm/yyyy) or (dd-mm-yy) or (dd-mm-yyyy)\n",
    "pattern2 = r'(?P<day>\\d{1,2})\\s(?P<month>Jan|Feb|Mar|Apr|May|Jun|Jul|Aug|Sep|Oct|Nov|Dec)[a-z]*[,\\s](?P<year>\\d{2,4})' # dd month(letters) yyyy\n",
    "pattern3 = r'(?P<day>\\d{1,2})\\s(?P<month>Jan|Feb|Mar|Apr|May|Jun|Jul|Aug|Sep|Oct|Nov|Dec)[.,]\\s(?P<year>\\d{4})' # dd month(letters)(, or .) yyyy\n",
    "pattern4 = r'(?P<month>Jan|Feb|Mar|Apr|May|Jun|Jul|Aug|Sep|Oct|Nov|Dec)[a-z]*\\s(?P<day>\\d{1,2}),\\s(?P<year>\\d{4})' #month(letters) dd, yyyy\n",
    "pattern5 = r'(?P<month>Jan|Feb|Mar|Apr|May|Jun|Jul|Aug|Sep|Oct|Nov|Dec)[a-z]*\\.\\s(?P<day>\\d{1,2}),\\s(?P<year>\\d{4})' #month(letters). dd, yyyy\n",
    "pattern6 = r'(?P<month>Jan|Feb|Mar|Apr|May|Jun|Jul|Aug|Sep|Oct|Nov|Dec)[a-z]*\\s(?P<day>\\d{1,2})\\s(?P<year>\\d{4})' #month(letters) dd yyyy\n",
    "pattern7 = r'(?P<month>Jan|Feb|Mar|Apr|May|Jun|Jul|Aug|Sep|Oct|Nov|Dec)[a-z]*\\s(?P<year>\\d{4})' #month(letters) yyyy\n",
    "pattern8 = r'(?P<month>Jan|Feb|Mar|Apr|May|Jun|Jul|Aug|Sep|Oct|Nov|Dec)[a-z]*[,]\\s(?P<year>\\d{4})' #month(letters), yyyy\n",
    "pattern9 = r'(?P<month>\\d{1,2})[-\\/](?P<year>\\d{4})' #mm(/ or -)yyyy\n",
    "pattern10 = r'(?P<year>\\d{4})'\n",
    "\n",
    "patterns = [pattern1, pattern2, pattern3, pattern4, pattern5, pattern6, pattern7, pattern8, pattern9, pattern10]"
   ]
  },
  {
   "cell_type": "markdown",
   "id": "dce61ab8",
   "metadata": {
    "papermill": {
     "duration": 0.006379,
     "end_time": "2024-02-07T15:13:54.639304",
     "exception": false,
     "start_time": "2024-02-07T15:13:54.632925",
     "status": "completed"
    },
    "tags": []
   },
   "source": [
    "Create empty lists for append the corresponding month, day and year"
   ]
  },
  {
   "cell_type": "code",
   "execution_count": 4,
   "id": "99eee210",
   "metadata": {
    "execution": {
     "iopub.execute_input": "2024-02-07T15:13:54.654612Z",
     "iopub.status.busy": "2024-02-07T15:13:54.654195Z",
     "iopub.status.idle": "2024-02-07T15:13:54.659041Z",
     "shell.execute_reply": "2024-02-07T15:13:54.657906Z"
    },
    "papermill": {
     "duration": 0.015769,
     "end_time": "2024-02-07T15:13:54.661510",
     "exception": false,
     "start_time": "2024-02-07T15:13:54.645741",
     "status": "completed"
    },
    "tags": []
   },
   "outputs": [],
   "source": [
    "#create three list to save the month, days and year\n",
    "months = []\n",
    "days = []\n",
    "years = []\n"
   ]
  },
  {
   "cell_type": "code",
   "execution_count": 5,
   "id": "3f35c7c9",
   "metadata": {
    "execution": {
     "iopub.execute_input": "2024-02-07T15:13:54.676873Z",
     "iopub.status.busy": "2024-02-07T15:13:54.676022Z",
     "iopub.status.idle": "2024-02-07T15:13:54.733249Z",
     "shell.execute_reply": "2024-02-07T15:13:54.731949Z"
    },
    "papermill": {
     "duration": 0.068242,
     "end_time": "2024-02-07T15:13:54.736215",
     "exception": false,
     "start_time": "2024-02-07T15:13:54.667973",
     "status": "completed"
    },
    "tags": []
   },
   "outputs": [],
   "source": [
    "for i in range(len(df)): \n",
    "    text = df.iloc[i, 0]  # Extraer el texto\n",
    "    found = False  # Variable para controlar si se ha encontrado una coincidencia\n",
    "    \n",
    "    for pattern in patterns:\n",
    "        match = re.search(pattern, text)\n",
    "        if match:\n",
    "            months.append(match.group('month')) if 'month' in match.groupdict() else months.append(\"1\")\n",
    "            days.append(match.group('day')) if 'day' in match.groupdict() else days.append(\"1\")\n",
    "            years.append(match.group('year'))\n",
    "            found = True\n",
    "            break  # Salir del bucle interior si se encuentra una coincidencia\n",
    "    \n",
    "    if not found:  #This part of code was used to check if I need to add new patterns or modify any\n",
    "        print(text)\n",
    "        months.append(None)\n",
    "        days.append(None)\n",
    "        years.append(None)"
   ]
  },
  {
   "cell_type": "code",
   "execution_count": 6,
   "id": "44a1e3ec",
   "metadata": {
    "execution": {
     "iopub.execute_input": "2024-02-07T15:13:54.752609Z",
     "iopub.status.busy": "2024-02-07T15:13:54.751801Z",
     "iopub.status.idle": "2024-02-07T15:13:54.760842Z",
     "shell.execute_reply": "2024-02-07T15:13:54.759358Z"
    },
    "papermill": {
     "duration": 0.020613,
     "end_time": "2024-02-07T15:13:54.763553",
     "exception": false,
     "start_time": "2024-02-07T15:13:54.742940",
     "status": "completed"
    },
    "tags": []
   },
   "outputs": [
    {
     "data": {
      "text/plain": [
       "'indice_none = months.index(None)  #Check if there is any None value\\nindice_none'"
      ]
     },
     "execution_count": 6,
     "metadata": {},
     "output_type": "execute_result"
    }
   ],
   "source": [
    "'''indice_none = months.index(None)  #Check if there is any None value\n",
    "indice_none'''"
   ]
  },
  {
   "cell_type": "raw",
   "id": "72a5beca",
   "metadata": {
    "papermill": {
     "duration": 0.00648,
     "end_time": "2024-02-07T15:13:54.776864",
     "exception": false,
     "start_time": "2024-02-07T15:13:54.770384",
     "status": "completed"
    },
    "tags": []
   },
   "source": [
    "After finish to extract all the patterns in data, we mapping the names of month and change for it corresponding number. Then we transform all the list into int values"
   ]
  },
  {
   "cell_type": "code",
   "execution_count": 7,
   "id": "9c7e1eb1",
   "metadata": {
    "execution": {
     "iopub.execute_input": "2024-02-07T15:13:54.792642Z",
     "iopub.status.busy": "2024-02-07T15:13:54.792259Z",
     "iopub.status.idle": "2024-02-07T15:13:54.800643Z",
     "shell.execute_reply": "2024-02-07T15:13:54.799495Z"
    },
    "papermill": {
     "duration": 0.019898,
     "end_time": "2024-02-07T15:13:54.803306",
     "exception": false,
     "start_time": "2024-02-07T15:13:54.783408",
     "status": "completed"
    },
    "tags": []
   },
   "outputs": [],
   "source": [
    "month_mapping = {\n",
    "    'Jan': '01', 'Feb': '02', 'Mar': '03', 'Apr': '04', 'May': '05', 'Jun': '06',\n",
    "    'Jul': '07', 'Aug': '08', 'Sep': '09', 'Oct': '10', 'Nov': '11', 'Dec': '12'\n",
    "}\n",
    "\n",
    "# Transform months names as numbers and change the type for all the list\n",
    "months_numerical = [month_mapping[month] if len(month) > 2 else month for month in months]\n",
    "months_2 = list(map(int, months_numerical)) #this is the final list with int values\n",
    "\n",
    "days_2 = list(map(int, days))\n",
    "\n",
    "years = ['19' + year if len(year) < 4 else year for year in years]\n",
    "years_2 = list(map(int, years))\n"
   ]
  },
  {
   "cell_type": "markdown",
   "id": "c92ab871",
   "metadata": {
    "papermill": {
     "duration": 0.006662,
     "end_time": "2024-02-07T15:13:54.816740",
     "exception": false,
     "start_time": "2024-02-07T15:13:54.810078",
     "status": "completed"
    },
    "tags": []
   },
   "source": [
    "Add to the dataframe"
   ]
  },
  {
   "cell_type": "code",
   "execution_count": 8,
   "id": "92517cc4",
   "metadata": {
    "execution": {
     "iopub.execute_input": "2024-02-07T15:13:54.832463Z",
     "iopub.status.busy": "2024-02-07T15:13:54.832034Z",
     "iopub.status.idle": "2024-02-07T15:13:54.842738Z",
     "shell.execute_reply": "2024-02-07T15:13:54.841793Z"
    },
    "papermill": {
     "duration": 0.021816,
     "end_time": "2024-02-07T15:13:54.845289",
     "exception": false,
     "start_time": "2024-02-07T15:13:54.823473",
     "status": "completed"
    },
    "tags": []
   },
   "outputs": [],
   "source": [
    "df[\"Day\"] = days_2\n",
    "df[\"Month\"] = months_2\n",
    "df[\"Year\"] = years_2"
   ]
  },
  {
   "cell_type": "markdown",
   "id": "6af45e40",
   "metadata": {
    "papermill": {
     "duration": 0.006687,
     "end_time": "2024-02-07T15:13:54.858755",
     "exception": false,
     "start_time": "2024-02-07T15:13:54.852068",
     "status": "completed"
    },
    "tags": []
   },
   "source": [
    "and sort"
   ]
  },
  {
   "cell_type": "code",
   "execution_count": 9,
   "id": "07c3aa35",
   "metadata": {
    "execution": {
     "iopub.execute_input": "2024-02-07T15:13:54.875848Z",
     "iopub.status.busy": "2024-02-07T15:13:54.875423Z",
     "iopub.status.idle": "2024-02-07T15:13:54.896216Z",
     "shell.execute_reply": "2024-02-07T15:13:54.895015Z"
    },
    "papermill": {
     "duration": 0.033574,
     "end_time": "2024-02-07T15:13:54.899024",
     "exception": false,
     "start_time": "2024-02-07T15:13:54.865450",
     "status": "completed"
    },
    "tags": []
   },
   "outputs": [],
   "source": [
    "df.sort_values(by = [\"Year\", \"Month\", \"Day\"], inplace = True)\n",
    "df.reset_index(inplace = True)\n",
    "ordered_series = pd.Series(df[\"index\"])"
   ]
  },
  {
   "cell_type": "markdown",
   "id": "f919a964",
   "metadata": {
    "papermill": {
     "duration": 0.006276,
     "end_time": "2024-02-07T15:13:54.912018",
     "exception": false,
     "start_time": "2024-02-07T15:13:54.905742",
     "status": "completed"
    },
    "tags": []
   },
   "source": [
    "This is the final list, the minimin date is 04/10/197 and the max date is 11/01/2016"
   ]
  },
  {
   "cell_type": "code",
   "execution_count": 10,
   "id": "50b32038",
   "metadata": {
    "execution": {
     "iopub.execute_input": "2024-02-07T15:13:54.927715Z",
     "iopub.status.busy": "2024-02-07T15:13:54.927280Z",
     "iopub.status.idle": "2024-02-07T15:13:54.942594Z",
     "shell.execute_reply": "2024-02-07T15:13:54.941199Z"
    },
    "papermill": {
     "duration": 0.026475,
     "end_time": "2024-02-07T15:13:54.945082",
     "exception": false,
     "start_time": "2024-02-07T15:13:54.918607",
     "status": "completed"
    },
    "tags": []
   },
   "outputs": [
    {
     "data": {
      "text/html": [
       "<div>\n",
       "<style scoped>\n",
       "    .dataframe tbody tr th:only-of-type {\n",
       "        vertical-align: middle;\n",
       "    }\n",
       "\n",
       "    .dataframe tbody tr th {\n",
       "        vertical-align: top;\n",
       "    }\n",
       "\n",
       "    .dataframe thead th {\n",
       "        text-align: right;\n",
       "    }\n",
       "</style>\n",
       "<table border=\"1\" class=\"dataframe\">\n",
       "  <thead>\n",
       "    <tr style=\"text-align: right;\">\n",
       "      <th></th>\n",
       "      <th>index</th>\n",
       "      <th>text</th>\n",
       "      <th>Day</th>\n",
       "      <th>Month</th>\n",
       "      <th>Year</th>\n",
       "    </tr>\n",
       "  </thead>\n",
       "  <tbody>\n",
       "    <tr>\n",
       "      <th>0</th>\n",
       "      <td>9</td>\n",
       "      <td>(4/10/71)Score-1Audit C Score Current:\\n</td>\n",
       "      <td>10</td>\n",
       "      <td>4</td>\n",
       "      <td>1971</td>\n",
       "    </tr>\n",
       "    <tr>\n",
       "      <th>1</th>\n",
       "      <td>84</td>\n",
       "      <td>5/18/71 Total time of visit (in minutes):\\n</td>\n",
       "      <td>18</td>\n",
       "      <td>5</td>\n",
       "      <td>1971</td>\n",
       "    </tr>\n",
       "    <tr>\n",
       "      <th>2</th>\n",
       "      <td>2</td>\n",
       "      <td>sshe plans to move as of 7/8/71 In-Home Servic...</td>\n",
       "      <td>8</td>\n",
       "      <td>7</td>\n",
       "      <td>1971</td>\n",
       "    </tr>\n",
       "    <tr>\n",
       "      <th>3</th>\n",
       "      <td>53</td>\n",
       "      <td>7/11/71 SOS-10 Total Score:\\n</td>\n",
       "      <td>11</td>\n",
       "      <td>7</td>\n",
       "      <td>1971</td>\n",
       "    </tr>\n",
       "    <tr>\n",
       "      <th>4</th>\n",
       "      <td>28</td>\n",
       "      <td>9/12/71 [report_end]\\n</td>\n",
       "      <td>12</td>\n",
       "      <td>9</td>\n",
       "      <td>1971</td>\n",
       "    </tr>\n",
       "    <tr>\n",
       "      <th>...</th>\n",
       "      <td>...</td>\n",
       "      <td>...</td>\n",
       "      <td>...</td>\n",
       "      <td>...</td>\n",
       "      <td>...</td>\n",
       "    </tr>\n",
       "    <tr>\n",
       "      <th>495</th>\n",
       "      <td>427</td>\n",
       "      <td>6e. monitor pt's depressive experience in cont...</td>\n",
       "      <td>1</td>\n",
       "      <td>5</td>\n",
       "      <td>2016</td>\n",
       "    </tr>\n",
       "    <tr>\n",
       "      <th>496</th>\n",
       "      <td>141</td>\n",
       "      <td>30 May 2016 SOS-10 Total Score:\\n</td>\n",
       "      <td>30</td>\n",
       "      <td>5</td>\n",
       "      <td>2016</td>\n",
       "    </tr>\n",
       "    <tr>\n",
       "      <th>497</th>\n",
       "      <td>186</td>\n",
       "      <td>13 Oct 2016 Primary Care Doctor:\\n</td>\n",
       "      <td>13</td>\n",
       "      <td>10</td>\n",
       "      <td>2016</td>\n",
       "    </tr>\n",
       "    <tr>\n",
       "      <th>498</th>\n",
       "      <td>161</td>\n",
       "      <td>19 Oct 2016 Communication with referring physi...</td>\n",
       "      <td>19</td>\n",
       "      <td>10</td>\n",
       "      <td>2016</td>\n",
       "    </tr>\n",
       "    <tr>\n",
       "      <th>499</th>\n",
       "      <td>413</td>\n",
       "      <td>11/2016 Primary Care Doctor:\\n</td>\n",
       "      <td>1</td>\n",
       "      <td>11</td>\n",
       "      <td>2016</td>\n",
       "    </tr>\n",
       "  </tbody>\n",
       "</table>\n",
       "<p>500 rows × 5 columns</p>\n",
       "</div>"
      ],
      "text/plain": [
       "     index                                               text  Day  Month  \\\n",
       "0        9           (4/10/71)Score-1Audit C Score Current:\\n   10      4   \n",
       "1       84        5/18/71 Total time of visit (in minutes):\\n   18      5   \n",
       "2        2  sshe plans to move as of 7/8/71 In-Home Servic...    8      7   \n",
       "3       53                      7/11/71 SOS-10 Total Score:\\n   11      7   \n",
       "4       28                             9/12/71 [report_end]\\n   12      9   \n",
       "..     ...                                                ...  ...    ...   \n",
       "495    427  6e. monitor pt's depressive experience in cont...    1      5   \n",
       "496    141                  30 May 2016 SOS-10 Total Score:\\n   30      5   \n",
       "497    186                 13 Oct 2016 Primary Care Doctor:\\n   13     10   \n",
       "498    161  19 Oct 2016 Communication with referring physi...   19     10   \n",
       "499    413                     11/2016 Primary Care Doctor:\\n    1     11   \n",
       "\n",
       "     Year  \n",
       "0    1971  \n",
       "1    1971  \n",
       "2    1971  \n",
       "3    1971  \n",
       "4    1971  \n",
       "..    ...  \n",
       "495  2016  \n",
       "496  2016  \n",
       "497  2016  \n",
       "498  2016  \n",
       "499  2016  \n",
       "\n",
       "[500 rows x 5 columns]"
      ]
     },
     "execution_count": 10,
     "metadata": {},
     "output_type": "execute_result"
    }
   ],
   "source": [
    "df"
   ]
  }
 ],
 "metadata": {
  "kaggle": {
   "accelerator": "none",
   "dataSources": [
    {
     "datasetId": 4403250,
     "sourceId": 7562138,
     "sourceType": "datasetVersion"
    }
   ],
   "dockerImageVersionId": 30646,
   "isGpuEnabled": false,
   "isInternetEnabled": true,
   "language": "python",
   "sourceType": "notebook"
  },
  "kernelspec": {
   "display_name": "Python 3",
   "language": "python",
   "name": "python3"
  },
  "language_info": {
   "codemirror_mode": {
    "name": "ipython",
    "version": 3
   },
   "file_extension": ".py",
   "mimetype": "text/x-python",
   "name": "python",
   "nbconvert_exporter": "python",
   "pygments_lexer": "ipython3",
   "version": "3.10.13"
  },
  "papermill": {
   "default_parameters": {},
   "duration": 5.276158,
   "end_time": "2024-02-07T15:13:55.475517",
   "environment_variables": {},
   "exception": null,
   "input_path": "__notebook__.ipynb",
   "output_path": "__notebook__.ipynb",
   "parameters": {},
   "start_time": "2024-02-07T15:13:50.199359",
   "version": "2.5.0"
  }
 },
 "nbformat": 4,
 "nbformat_minor": 5
}
